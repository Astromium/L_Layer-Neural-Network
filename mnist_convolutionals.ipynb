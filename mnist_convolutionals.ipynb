{
  "nbformat": 4,
  "nbformat_minor": 0,
  "metadata": {
    "colab": {
      "name": "mnist_convolutionals.ipynb",
      "provenance": [],
      "authorship_tag": "ABX9TyPTpdRgiJ5IBqeW4hOSt0th",
      "include_colab_link": true
    },
    "kernelspec": {
      "name": "python3",
      "display_name": "Python 3"
    },
    "language_info": {
      "name": "python"
    }
  },
  "cells": [
    {
      "cell_type": "markdown",
      "metadata": {
        "id": "view-in-github",
        "colab_type": "text"
      },
      "source": [
        "<a href=\"https://colab.research.google.com/github/Astromium/L_Layer-Neural-Network/blob/main/mnist_convolutionals.ipynb\" target=\"_parent\"><img src=\"https://colab.research.google.com/assets/colab-badge.svg\" alt=\"Open In Colab\"/></a>"
      ]
    },
    {
      "cell_type": "code",
      "metadata": {
        "id": "rBSo4-dBe2MN"
      },
      "source": [
        "import tensorflow as tf\n",
        "from tensorflow import keras"
      ],
      "execution_count": 2,
      "outputs": []
    },
    {
      "cell_type": "code",
      "metadata": {
        "id": "z-WrtCn1e4h2"
      },
      "source": [
        "def train_mnis_conv():\n",
        "  class myCallback(keras.callbacks.Callback):\n",
        "    def on_epoch_end(self, epoch, logs={}):\n",
        "      if(logs.get('accuracy') >= 0.998):\n",
        "        print('\\nReached 99.8% accuracy on training dataset')\n",
        "        self.model.stop_training = True\n",
        "\n",
        "  mnist = tf.keras.datasets.mnist\n",
        "  (training_images, training_labels), (test_images, test_labels) = mnist.load_data()     \n",
        "\n",
        "  training_images = training_images.reshape(60000, 28, 28, 1)\n",
        "  training_images = training_images / 255.0\n",
        "  test_images = test_images.reshape(10000, 28, 28, 1)\n",
        "  test_images = test_images / 255.0\n",
        "\n",
        "  model = keras.Sequential([\n",
        "    # 1 convolutional layer\n",
        "    keras.layers.Conv2D(64, (3,3), activation='relu', input_shape=(28,28,1)),\n",
        "    # 1 pooling layer\n",
        "    keras.layers.MaxPool2D(2,2),\n",
        "    keras.layers.Flatten(),\n",
        "    keras.layers.Dense(units=256, activation=tf.nn.relu),\n",
        "    keras.layers.Dense(units=128, activation=tf.nn.relu),\n",
        "    keras.layers.Dense(units=64, activation=tf.nn.relu),\n",
        "    keras.layers.Dense(units=10, activation=tf.nn.softmax)                          \n",
        "  ])\n",
        "\n",
        "  model.compile(optimizer='adam', loss='sparse_categorical_crossentropy', metrics=['accuracy'])\n",
        "\n",
        "  callbacks = myCallback()\n",
        "  history = model.fit(training_images, training_labels, epochs=19, callbacks=[callbacks])\n",
        "\n",
        "  return history.epoch, history.history['accuracy'][-1]"
      ],
      "execution_count": 14,
      "outputs": []
    },
    {
      "cell_type": "code",
      "metadata": {
        "colab": {
          "base_uri": "https://localhost:8080/"
        },
        "id": "w0EKlZBqflxm",
        "outputId": "349cd4d6-2983-4b01-9c9d-b19855d45c81"
      },
      "source": [
        "train_mnis_conv()"
      ],
      "execution_count": 15,
      "outputs": [
        {
          "output_type": "stream",
          "name": "stdout",
          "text": [
            "Epoch 1/19\n",
            "1875/1875 [==============================] - 75s 40ms/step - loss: 0.1474 - accuracy: 0.9543\n",
            "Epoch 2/19\n",
            "1875/1875 [==============================] - 73s 39ms/step - loss: 0.0478 - accuracy: 0.9850\n",
            "Epoch 3/19\n",
            "1875/1875 [==============================] - 73s 39ms/step - loss: 0.0310 - accuracy: 0.9903\n",
            "Epoch 4/19\n",
            "1875/1875 [==============================] - 74s 39ms/step - loss: 0.0212 - accuracy: 0.9934\n",
            "Epoch 5/19\n",
            "1875/1875 [==============================] - 73s 39ms/step - loss: 0.0160 - accuracy: 0.9951\n",
            "Epoch 6/19\n",
            "1875/1875 [==============================] - 73s 39ms/step - loss: 0.0123 - accuracy: 0.9963\n",
            "Epoch 7/19\n",
            "1875/1875 [==============================] - 73s 39ms/step - loss: 0.0107 - accuracy: 0.9969\n",
            "Epoch 8/19\n",
            "1875/1875 [==============================] - 72s 39ms/step - loss: 0.0080 - accuracy: 0.9976\n",
            "Epoch 9/19\n",
            "1875/1875 [==============================] - 73s 39ms/step - loss: 0.0066 - accuracy: 0.9981\n",
            "\n",
            "Reached 99.8% accuracy on training dataset\n"
          ]
        },
        {
          "output_type": "execute_result",
          "data": {
            "text/plain": [
              "([0, 1, 2, 3, 4, 5, 6, 7, 8], 0.9980833530426025)"
            ]
          },
          "metadata": {},
          "execution_count": 15
        }
      ]
    },
    {
      "cell_type": "code",
      "metadata": {
        "id": "oYlak75BfrI9"
      },
      "source": [
        ""
      ],
      "execution_count": null,
      "outputs": []
    }
  ]
}