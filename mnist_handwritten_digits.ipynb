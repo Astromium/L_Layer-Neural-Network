{
  "nbformat": 4,
  "nbformat_minor": 0,
  "metadata": {
    "colab": {
      "name": "mnist_handwritten_digits.ipynb",
      "provenance": [],
      "authorship_tag": "ABX9TyPVySjpLESWrNQPKqX7k+OO",
      "include_colab_link": true
    },
    "kernelspec": {
      "name": "python3",
      "display_name": "Python 3"
    },
    "language_info": {
      "name": "python"
    }
  },
  "cells": [
    {
      "cell_type": "markdown",
      "metadata": {
        "id": "view-in-github",
        "colab_type": "text"
      },
      "source": [
        "<a href=\"https://colab.research.google.com/github/Astromium/L_Layer-Neural-Network/blob/main/mnist_handwritten_digits.ipynb\" target=\"_parent\"><img src=\"https://colab.research.google.com/assets/colab-badge.svg\" alt=\"Open In Colab\"/></a>"
      ]
    },
    {
      "cell_type": "code",
      "metadata": {
        "id": "fds6aAFdV-yF"
      },
      "source": [
        "import tensorflow as tf\n",
        "from tensorflow import keras\n",
        "from os import path, getcwd, chdir\n",
        "\n",
        "# DO NOT CHANGE THE LINE BELOW. If you are developing in a local\n",
        "# environment, then grab mnist.npz from the Coursera Jupyter Notebook\n",
        "# and place it inside a local folder and edit the path to that location\n",
        "path = f\"{getcwd()}/../tmp2/mnist.npz\""
      ],
      "execution_count": 110,
      "outputs": []
    },
    {
      "cell_type": "code",
      "metadata": {
        "id": "CoTX_CTDWE1K"
      },
      "source": [
        "def test_mnist():\n",
        "  class myCallback(keras.callbacks.Callback):\n",
        "    def on_epoch_end(self, epoch, logs={}):\n",
        "      if(logs.get('accuracy') >= 0.99):\n",
        "        print('\\nReached 99% accuracy so cancelling training!')\n",
        "        self.model.stop_training = True\n",
        "\n",
        "  mnist = tf.keras.datasets.mnist\n",
        "\n",
        "  (x_train, y_train),(x_test, y_test) = mnist.load_data()\n",
        "  x_train = x_train / 255.0\n",
        "  x_test = x_test / 255.0\n",
        "    # YOUR CODE SHOULD START HERE\n",
        "\n",
        "    # YOUR CODE SHOULD END HERE\n",
        "  model = tf.keras.models.Sequential([\n",
        "        # YOUR CODE SHOULD START HERE\n",
        "      tf.keras.layers.Flatten(input_shape=(28, 28)),\n",
        "      tf.keras.layers.Dense(units=1024, activation=tf.nn.relu),\n",
        "      tf.keras.layers.Dense(units=512, activation=tf.nn.relu),\n",
        "      tf.keras.layers.Dense(units=256, activation=tf.nn.relu),\n",
        "      tf.keras.layers.Dense(units=128, activation=tf.nn.relu),\n",
        "      #tf.keras.layers.Dense(units=64, activation=tf.nn.relu),\n",
        "      #tf.keras.layers.Dense(units=64, activation=tf.nn.relu),\n",
        "      #tf.keras.layers.Dense(units=64, activation=tf.nn.relu),\n",
        "      #tf.keras.layers.Dense(units=64, activation=tf.nn.relu),\n",
        "      tf.keras.layers.Dense(units=10, activation=tf.nn.softmax)\n",
        "        # YOUR CODE SHOULD END HERE\n",
        "  ])\n",
        "\n",
        "  model.compile(optimizer='adam',\n",
        "                  loss='sparse_categorical_crossentropy',\n",
        "                  metrics=['accuracy'])\n",
        "  callbacks = myCallback()\n",
        "    # model fitting\n",
        "  history = model.fit(x_train, y_train, epochs=9, callbacks=[callbacks])\n",
        "    # model fitting\n",
        "  return history.epoch, history.history['acc'][-1]"
      ],
      "execution_count": 111,
      "outputs": []
    },
    {
      "cell_type": "code",
      "metadata": {
        "colab": {
          "base_uri": "https://localhost:8080/",
          "height": 520
        },
        "id": "wRB2d5chW-C2",
        "outputId": "f890789c-f136-4245-c041-2d788908015b"
      },
      "source": [
        "test_mnist()"
      ],
      "execution_count": 112,
      "outputs": [
        {
          "output_type": "stream",
          "name": "stdout",
          "text": [
            "Epoch 1/9\n",
            "1875/1875 [==============================] - 37s 19ms/step - loss: 0.2064 - accuracy: 0.9379\n",
            "Epoch 2/9\n",
            "1875/1875 [==============================] - 36s 19ms/step - loss: 0.0971 - accuracy: 0.9717\n",
            "Epoch 3/9\n",
            "1875/1875 [==============================] - 35s 19ms/step - loss: 0.0706 - accuracy: 0.9791\n",
            "Epoch 4/9\n",
            "1875/1875 [==============================] - 37s 20ms/step - loss: 0.0541 - accuracy: 0.9837\n",
            "Epoch 5/9\n",
            "1875/1875 [==============================] - 36s 19ms/step - loss: 0.0466 - accuracy: 0.9865\n",
            "Epoch 6/9\n",
            "1875/1875 [==============================] - 36s 19ms/step - loss: 0.0387 - accuracy: 0.9883\n",
            "Epoch 7/9\n",
            "1875/1875 [==============================] - 37s 20ms/step - loss: 0.0335 - accuracy: 0.9902\n",
            "\n",
            "Reached 99% accuracy so cancelling training!\n"
          ]
        },
        {
          "output_type": "error",
          "ename": "KeyError",
          "evalue": "ignored",
          "traceback": [
            "\u001b[0;31m---------------------------------------------------------------------------\u001b[0m",
            "\u001b[0;31mKeyError\u001b[0m                                  Traceback (most recent call last)",
            "\u001b[0;32m<ipython-input-112-1bea27a742ce>\u001b[0m in \u001b[0;36m<module>\u001b[0;34m()\u001b[0m\n\u001b[0;32m----> 1\u001b[0;31m \u001b[0mtest_mnist\u001b[0m\u001b[0;34m(\u001b[0m\u001b[0;34m)\u001b[0m\u001b[0;34m\u001b[0m\u001b[0;34m\u001b[0m\u001b[0m\n\u001b[0m",
            "\u001b[0;32m<ipython-input-111-fcce0a3ee7de>\u001b[0m in \u001b[0;36mtest_mnist\u001b[0;34m()\u001b[0m\n\u001b[1;32m     36\u001b[0m   \u001b[0mhistory\u001b[0m \u001b[0;34m=\u001b[0m \u001b[0mmodel\u001b[0m\u001b[0;34m.\u001b[0m\u001b[0mfit\u001b[0m\u001b[0;34m(\u001b[0m\u001b[0mx_train\u001b[0m\u001b[0;34m,\u001b[0m \u001b[0my_train\u001b[0m\u001b[0;34m,\u001b[0m \u001b[0mepochs\u001b[0m\u001b[0;34m=\u001b[0m\u001b[0;36m9\u001b[0m\u001b[0;34m,\u001b[0m \u001b[0mcallbacks\u001b[0m\u001b[0;34m=\u001b[0m\u001b[0;34m[\u001b[0m\u001b[0mcallbacks\u001b[0m\u001b[0;34m]\u001b[0m\u001b[0;34m)\u001b[0m\u001b[0;34m\u001b[0m\u001b[0;34m\u001b[0m\u001b[0m\n\u001b[1;32m     37\u001b[0m     \u001b[0;31m# model fitting\u001b[0m\u001b[0;34m\u001b[0m\u001b[0;34m\u001b[0m\u001b[0;34m\u001b[0m\u001b[0m\n\u001b[0;32m---> 38\u001b[0;31m   \u001b[0;32mreturn\u001b[0m \u001b[0mhistory\u001b[0m\u001b[0;34m.\u001b[0m\u001b[0mepoch\u001b[0m\u001b[0;34m,\u001b[0m \u001b[0mhistory\u001b[0m\u001b[0;34m.\u001b[0m\u001b[0mhistory\u001b[0m\u001b[0;34m[\u001b[0m\u001b[0;34m'acc'\u001b[0m\u001b[0;34m]\u001b[0m\u001b[0;34m[\u001b[0m\u001b[0;34m-\u001b[0m\u001b[0;36m1\u001b[0m\u001b[0;34m]\u001b[0m\u001b[0;34m\u001b[0m\u001b[0;34m\u001b[0m\u001b[0m\n\u001b[0m",
            "\u001b[0;31mKeyError\u001b[0m: 'acc'"
          ]
        }
      ]
    },
    {
      "cell_type": "code",
      "metadata": {
        "id": "f5DMxl9qXARx"
      },
      "source": [
        ""
      ],
      "execution_count": null,
      "outputs": []
    }
  ]
}